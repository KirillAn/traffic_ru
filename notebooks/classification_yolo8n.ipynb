{
 "cells": [
  {
   "cell_type": "markdown",
   "id": "d42282bc-8b52-42bd-91ac-4632693180d0",
   "metadata": {},
   "source": [
    "## Обучение модели классификации на yolov8 - nano"
   ]
  },
  {
   "cell_type": "code",
   "execution_count": 3,
   "id": "029477b2-1b9b-43f8-856f-ace313c616aa",
   "metadata": {},
   "outputs": [],
   "source": [
    "from ultralytics import YOLO\n",
    " \n",
    "# Load the model.\n",
    "model = YOLO('yolov8n-cls.pt')"
   ]
  },
  {
   "cell_type": "markdown",
   "id": "5c04cb5f-ccf2-4560-b077-33b40eddae0c",
   "metadata": {},
   "source": [
    "### Требуется предобработка\n",
    "Для обучения классификатора требуется предобработка данных - создать папки train и test. В этих папках требуется создать папки с названиями классов и перенести туда изображения соответствующих классов. После этого можно начать обучение"
   ]
  },
  {
   "cell_type": "code",
   "execution_count": 15,
   "id": "cf5c0387-978e-4923-a43d-002c640df10c",
   "metadata": {},
   "outputs": [
    {
     "name": "stdout",
     "output_type": "stream",
     "text": [
      "Ultralytics YOLOv8.0.218 🚀 Python-3.10.12 torch-1.12.1+cu116 CUDA:0 (NVIDIA GeForce RTX 3090, 24260MiB)\n",
      "WARNING ⚠️ Upgrade to torch>=2.0.0 for deterministic training.\n",
      "\u001b[34m\u001b[1mengine/trainer: \u001b[0mtask=classify, mode=train, model=yolov8n-cls.pt, data=/home/stas/workspace/courses/itmo_courses/dl_in_practice/for_cls_2/, epochs=60, patience=50, batch=16, imgsz=1280, save=True, save_period=-1, cache=False, device=None, workers=8, project=None, name=yolov8n_custom_cls12, exist_ok=False, pretrained=True, optimizer=auto, verbose=True, seed=0, deterministic=True, single_cls=False, rect=False, cos_lr=False, close_mosaic=10, resume=False, amp=True, fraction=1.0, profile=False, freeze=None, overlap_mask=True, mask_ratio=4, dropout=0.0, val=True, split=val, save_json=False, save_hybrid=False, conf=None, iou=0.7, max_det=300, half=False, dnn=False, plots=True, source=None, vid_stride=1, stream_buffer=False, visualize=False, augment=False, agnostic_nms=False, classes=None, retina_masks=False, show=False, save_txt=False, save_conf=False, save_crop=False, show_labels=True, show_conf=True, show_boxes=True, line_width=None, format=torchscript, keras=False, optimize=False, int8=False, dynamic=False, simplify=False, opset=None, workspace=4, nms=False, lr0=0.01, lrf=0.01, momentum=0.937, weight_decay=0.0005, warmup_epochs=3.0, warmup_momentum=0.8, warmup_bias_lr=0.1, box=7.5, cls=0.5, dfl=1.5, pose=12.0, kobj=1.0, label_smoothing=0.0, nbs=64, hsv_h=0.015, hsv_s=0.7, hsv_v=0.4, degrees=0.0, translate=0.1, scale=0.5, shear=0.0, perspective=0.0, flipud=0.0, fliplr=0.5, mosaic=1.0, mixup=0.0, copy_paste=0.0, cfg=None, tracker=botsort.yaml, save_dir=runs/classify/yolov8n_custom_cls12\n",
      "\u001b[34m\u001b[1mtrain:\u001b[0m /home/stas/workspace/courses/itmo_courses/dl_in_practice/for_cls_2/train... found 37938 images in 188 classes ✅ \n",
      "\u001b[34m\u001b[1mval:\u001b[0m None...\n",
      "\u001b[34m\u001b[1mtest:\u001b[0m /home/stas/workspace/courses/itmo_courses/dl_in_practice/for_cls_2/test... found 1852 images in 126 classes: ERROR ❌️ requires 188 classes, not 126\n",
      "\n",
      "                   from  n    params  module                                       arguments                     \n",
      "  0                  -1  1       464  ultralytics.nn.modules.conv.Conv             [3, 16, 3, 2]                 \n",
      "  1                  -1  1      4672  ultralytics.nn.modules.conv.Conv             [16, 32, 3, 2]                \n",
      "  2                  -1  1      7360  ultralytics.nn.modules.block.C2f             [32, 32, 1, True]             \n",
      "  3                  -1  1     18560  ultralytics.nn.modules.conv.Conv             [32, 64, 3, 2]                \n",
      "  4                  -1  2     49664  ultralytics.nn.modules.block.C2f             [64, 64, 2, True]             \n",
      "  5                  -1  1     73984  ultralytics.nn.modules.conv.Conv             [64, 128, 3, 2]               \n",
      "  6                  -1  2    197632  ultralytics.nn.modules.block.C2f             [128, 128, 2, True]           \n",
      "  7                  -1  1    295424  ultralytics.nn.modules.conv.Conv             [128, 256, 3, 2]              \n",
      "  8                  -1  1    460288  ultralytics.nn.modules.block.C2f             [256, 256, 1, True]           \n",
      "  9                  -1  1    571068  ultralytics.nn.modules.head.Classify         [256, 188]                    \n",
      "YOLOv8n-cls summary: 99 layers, 1679116 parameters, 1679116 gradients, 3.6 GFLOPs\n",
      "Transferred 158/158 items from pretrained weights\n",
      "\u001b[34m\u001b[1mTensorBoard: \u001b[0mStart with 'tensorboard --logdir runs/classify/yolov8n_custom_cls12', view at http://localhost:6006/\n",
      "\u001b[34m\u001b[1mAMP: \u001b[0mrunning Automatic Mixed Precision (AMP) checks with YOLOv8n...\n",
      "\u001b[34m\u001b[1mAMP: \u001b[0mchecks passed ✅\n"
     ]
    },
    {
     "name": "stderr",
     "output_type": "stream",
     "text": [
      "\u001b[34m\u001b[1mtrain: \u001b[0mScanning /home/stas/workspace/courses/itmo_courses/dl_in_practice/for_cls_2/train... 37938 images, 0 corrupt: 100%|██████████| 37938/37938 [00:00<?, ?it/s]\u001b[0m\n",
      "\u001b[34m\u001b[1mval: \u001b[0mScanning /home/stas/workspace/courses/itmo_courses/dl_in_practice/for_cls_2/test... 1852 images, 0 corrupt: 100%|██████████| 1852/1852 [00:00<00:00, 6275.27it/s]\u001b[0m\n"
     ]
    },
    {
     "name": "stdout",
     "output_type": "stream",
     "text": [
      "\u001b[34m\u001b[1mval: \u001b[0mNew cache created: /home/stas/workspace/courses/itmo_courses/dl_in_practice/for_cls_2/test.cache\n",
      "\u001b[34m\u001b[1moptimizer:\u001b[0m 'optimizer=auto' found, ignoring 'lr0=0.01' and 'momentum=0.937' and determining best 'optimizer', 'lr0' and 'momentum' automatically... \n",
      "\u001b[34m\u001b[1moptimizer:\u001b[0m SGD(lr=0.01, momentum=0.9) with parameter groups 26 weight(decay=0.0), 27 weight(decay=0.0005), 27 bias(decay=0.0)\n",
      "Image sizes 1280 train, 1280 val\n",
      "Using 8 dataloader workers\n",
      "Logging results to \u001b[1mruns/classify/yolov8n_custom_cls12\u001b[0m\n",
      "Starting training for 60 epochs...\n",
      "\n",
      "      Epoch    GPU_mem       loss  Instances       Size\n"
     ]
    },
    {
     "name": "stderr",
     "output_type": "stream",
     "text": [
      "       1/60      11.9G       3.61          2       1280: 100%|██████████| 2372/2372 [05:13<00:00,  7.58it/s]\n",
      "               classes   top1_acc   top5_acc: 100%|██████████| 58/58 [00:12<00:00,  4.82it/s]\n"
     ]
    },
    {
     "name": "stdout",
     "output_type": "stream",
     "text": [
      "                   all    0.00162    0.00918\n",
      "\n",
      "      Epoch    GPU_mem       loss  Instances       Size\n"
     ]
    },
    {
     "name": "stderr",
     "output_type": "stream",
     "text": [
      "       2/60      5.84G      2.621          2       1280: 100%|██████████| 2372/2372 [05:09<00:00,  7.66it/s]\n",
      "               classes   top1_acc   top5_acc: 100%|██████████| 58/58 [00:12<00:00,  4.78it/s]"
     ]
    },
    {
     "name": "stdout",
     "output_type": "stream",
     "text": [
      "                   all    0.00162     0.0346\n"
     ]
    },
    {
     "name": "stderr",
     "output_type": "stream",
     "text": [
      "\n"
     ]
    },
    {
     "name": "stdout",
     "output_type": "stream",
     "text": [
      "\n",
      "      Epoch    GPU_mem       loss  Instances       Size\n"
     ]
    },
    {
     "name": "stderr",
     "output_type": "stream",
     "text": [
      "       3/60      5.84G      2.094          2       1280: 100%|██████████| 2372/2372 [05:11<00:00,  7.62it/s]\n",
      "               classes   top1_acc   top5_acc: 100%|██████████| 58/58 [00:12<00:00,  4.78it/s]"
     ]
    },
    {
     "name": "stdout",
     "output_type": "stream",
     "text": [
      "                   all     0.0054     0.0378\n"
     ]
    },
    {
     "name": "stderr",
     "output_type": "stream",
     "text": [
      "\n"
     ]
    },
    {
     "name": "stdout",
     "output_type": "stream",
     "text": [
      "\n",
      "      Epoch    GPU_mem       loss  Instances       Size\n"
     ]
    },
    {
     "name": "stderr",
     "output_type": "stream",
     "text": [
      "       4/60      5.84G      1.844          2       1280: 100%|██████████| 2372/2372 [05:12<00:00,  7.59it/s]\n",
      "               classes   top1_acc   top5_acc: 100%|██████████| 58/58 [00:12<00:00,  4.74it/s]\n"
     ]
    },
    {
     "name": "stdout",
     "output_type": "stream",
     "text": [
      "                   all    0.00594     0.0481\n",
      "\n",
      "      Epoch    GPU_mem       loss  Instances       Size\n"
     ]
    },
    {
     "name": "stderr",
     "output_type": "stream",
     "text": [
      "       5/60      5.84G      1.584          2       1280: 100%|██████████| 2372/2372 [05:12<00:00,  7.60it/s]\n",
      "               classes   top1_acc   top5_acc: 100%|██████████| 58/58 [00:12<00:00,  4.72it/s]"
     ]
    },
    {
     "name": "stdout",
     "output_type": "stream",
     "text": [
      "                   all      0.013     0.0513\n"
     ]
    },
    {
     "name": "stderr",
     "output_type": "stream",
     "text": [
      "\n"
     ]
    },
    {
     "name": "stdout",
     "output_type": "stream",
     "text": [
      "\n",
      "      Epoch    GPU_mem       loss  Instances       Size\n"
     ]
    },
    {
     "name": "stderr",
     "output_type": "stream",
     "text": [
      "       6/60      5.84G        1.4          2       1280: 100%|██████████| 2372/2372 [05:12<00:00,  7.58it/s]\n",
      "               classes   top1_acc   top5_acc: 100%|██████████| 58/58 [00:12<00:00,  4.73it/s]"
     ]
    },
    {
     "name": "stdout",
     "output_type": "stream",
     "text": [
      "                   all     0.0146     0.0502\n"
     ]
    },
    {
     "name": "stderr",
     "output_type": "stream",
     "text": [
      "\n"
     ]
    },
    {
     "name": "stdout",
     "output_type": "stream",
     "text": [
      "\n",
      "      Epoch    GPU_mem       loss  Instances       Size\n"
     ]
    },
    {
     "name": "stderr",
     "output_type": "stream",
     "text": [
      "       7/60      5.84G      1.261          2       1280: 100%|██████████| 2372/2372 [05:13<00:00,  7.58it/s]\n",
      "               classes   top1_acc   top5_acc: 100%|██████████| 58/58 [00:12<00:00,  4.76it/s]\n"
     ]
    },
    {
     "name": "stdout",
     "output_type": "stream",
     "text": [
      "                   all     0.0119     0.0486\n",
      "\n",
      "      Epoch    GPU_mem       loss  Instances       Size\n"
     ]
    },
    {
     "name": "stderr",
     "output_type": "stream",
     "text": [
      "       8/60      5.84G      1.153          2       1280: 100%|██████████| 2372/2372 [05:12<00:00,  7.59it/s]\n",
      "               classes   top1_acc   top5_acc: 100%|██████████| 58/58 [00:12<00:00,  4.74it/s]\n"
     ]
    },
    {
     "name": "stdout",
     "output_type": "stream",
     "text": [
      "                   all     0.0173      0.054\n",
      "\n",
      "      Epoch    GPU_mem       loss  Instances       Size\n"
     ]
    },
    {
     "name": "stderr",
     "output_type": "stream",
     "text": [
      "       9/60      5.84G      1.049          2       1280: 100%|██████████| 2372/2372 [05:13<00:00,  7.57it/s]\n",
      "               classes   top1_acc   top5_acc: 100%|██████████| 58/58 [00:12<00:00,  4.73it/s]"
     ]
    },
    {
     "name": "stdout",
     "output_type": "stream",
     "text": [
      "                   all     0.0189     0.0556\n"
     ]
    },
    {
     "name": "stderr",
     "output_type": "stream",
     "text": [
      "\n"
     ]
    },
    {
     "name": "stdout",
     "output_type": "stream",
     "text": [
      "\n",
      "      Epoch    GPU_mem       loss  Instances       Size\n"
     ]
    },
    {
     "name": "stderr",
     "output_type": "stream",
     "text": [
      "      10/60      5.84G     0.9718          2       1280: 100%|██████████| 2372/2372 [05:13<00:00,  7.56it/s]\n",
      "               classes   top1_acc   top5_acc: 100%|██████████| 58/58 [00:12<00:00,  4.73it/s]"
     ]
    },
    {
     "name": "stdout",
     "output_type": "stream",
     "text": [
      "                   all     0.0205     0.0589\n"
     ]
    },
    {
     "name": "stderr",
     "output_type": "stream",
     "text": [
      "\n"
     ]
    },
    {
     "name": "stdout",
     "output_type": "stream",
     "text": [
      "\n",
      "      Epoch    GPU_mem       loss  Instances       Size\n"
     ]
    },
    {
     "name": "stderr",
     "output_type": "stream",
     "text": [
      "      11/60      5.84G     0.8901          2       1280: 100%|██████████| 2372/2372 [05:13<00:00,  7.57it/s]\n",
      "               classes   top1_acc   top5_acc: 100%|██████████| 58/58 [00:12<00:00,  4.74it/s]"
     ]
    },
    {
     "name": "stdout",
     "output_type": "stream",
     "text": [
      "                   all     0.0194     0.0589\n"
     ]
    },
    {
     "name": "stderr",
     "output_type": "stream",
     "text": [
      "\n"
     ]
    },
    {
     "name": "stdout",
     "output_type": "stream",
     "text": [
      "\n",
      "      Epoch    GPU_mem       loss  Instances       Size\n"
     ]
    },
    {
     "name": "stderr",
     "output_type": "stream",
     "text": [
      "      12/60      5.84G     0.8089          2       1280: 100%|██████████| 2372/2372 [05:14<00:00,  7.55it/s]\n",
      "               classes   top1_acc   top5_acc: 100%|██████████| 58/58 [00:12<00:00,  4.74it/s]"
     ]
    },
    {
     "name": "stdout",
     "output_type": "stream",
     "text": [
      "                   all     0.0205      0.061\n"
     ]
    },
    {
     "name": "stderr",
     "output_type": "stream",
     "text": [
      "\n"
     ]
    },
    {
     "name": "stdout",
     "output_type": "stream",
     "text": [
      "\n",
      "      Epoch    GPU_mem       loss  Instances       Size\n"
     ]
    },
    {
     "name": "stderr",
     "output_type": "stream",
     "text": [
      "      13/60      5.84G     0.7451          2       1280: 100%|██████████| 2372/2372 [05:14<00:00,  7.55it/s]\n",
      "               classes   top1_acc   top5_acc: 100%|██████████| 58/58 [00:12<00:00,  4.70it/s]\n"
     ]
    },
    {
     "name": "stdout",
     "output_type": "stream",
     "text": [
      "                   all     0.0232     0.0578\n",
      "\n",
      "      Epoch    GPU_mem       loss  Instances       Size\n"
     ]
    },
    {
     "name": "stderr",
     "output_type": "stream",
     "text": [
      "      14/60      5.84G     0.6942          2       1280: 100%|██████████| 2372/2372 [05:14<00:00,  7.55it/s]\n",
      "               classes   top1_acc   top5_acc: 100%|██████████| 58/58 [00:12<00:00,  4.72it/s]"
     ]
    },
    {
     "name": "stdout",
     "output_type": "stream",
     "text": [
      "                   all     0.0221     0.0578\n"
     ]
    },
    {
     "name": "stderr",
     "output_type": "stream",
     "text": [
      "\n"
     ]
    },
    {
     "name": "stdout",
     "output_type": "stream",
     "text": [
      "\n",
      "      Epoch    GPU_mem       loss  Instances       Size\n"
     ]
    },
    {
     "name": "stderr",
     "output_type": "stream",
     "text": [
      "      15/60      5.84G     0.6406          2       1280: 100%|██████████| 2372/2372 [05:14<00:00,  7.55it/s]\n",
      "               classes   top1_acc   top5_acc: 100%|██████████| 58/58 [00:12<00:00,  4.70it/s]"
     ]
    },
    {
     "name": "stdout",
     "output_type": "stream",
     "text": [
      "                   all     0.0248     0.0594\n"
     ]
    },
    {
     "name": "stderr",
     "output_type": "stream",
     "text": [
      "\n"
     ]
    },
    {
     "name": "stdout",
     "output_type": "stream",
     "text": [
      "\n",
      "      Epoch    GPU_mem       loss  Instances       Size\n"
     ]
    },
    {
     "name": "stderr",
     "output_type": "stream",
     "text": [
      "      16/60      5.84G     0.5781          2       1280: 100%|██████████| 2372/2372 [05:14<00:00,  7.53it/s]\n",
      "               classes   top1_acc   top5_acc: 100%|██████████| 58/58 [00:12<00:00,  4.70it/s]"
     ]
    },
    {
     "name": "stdout",
     "output_type": "stream",
     "text": [
      "                   all     0.0248      0.061\n"
     ]
    },
    {
     "name": "stderr",
     "output_type": "stream",
     "text": [
      "\n"
     ]
    },
    {
     "name": "stdout",
     "output_type": "stream",
     "text": [
      "\n",
      "      Epoch    GPU_mem       loss  Instances       Size\n"
     ]
    },
    {
     "name": "stderr",
     "output_type": "stream",
     "text": [
      "      17/60      5.84G     0.5332          2       1280: 100%|██████████| 2372/2372 [05:14<00:00,  7.55it/s]\n",
      "               classes   top1_acc   top5_acc: 100%|██████████| 58/58 [00:12<00:00,  4.69it/s]"
     ]
    },
    {
     "name": "stdout",
     "output_type": "stream",
     "text": [
      "                   all     0.0248     0.0583\n"
     ]
    },
    {
     "name": "stderr",
     "output_type": "stream",
     "text": [
      "\n"
     ]
    },
    {
     "name": "stdout",
     "output_type": "stream",
     "text": [
      "\n",
      "      Epoch    GPU_mem       loss  Instances       Size\n"
     ]
    },
    {
     "name": "stderr",
     "output_type": "stream",
     "text": [
      "      18/60      5.84G     0.4929          2       1280: 100%|██████████| 2372/2372 [05:14<00:00,  7.53it/s]\n",
      "               classes   top1_acc   top5_acc: 100%|██████████| 58/58 [00:12<00:00,  4.72it/s]"
     ]
    },
    {
     "name": "stdout",
     "output_type": "stream",
     "text": [
      "                   all     0.0248     0.0589\n"
     ]
    },
    {
     "name": "stderr",
     "output_type": "stream",
     "text": [
      "\n"
     ]
    },
    {
     "name": "stdout",
     "output_type": "stream",
     "text": [
      "\n",
      "      Epoch    GPU_mem       loss  Instances       Size\n"
     ]
    },
    {
     "name": "stderr",
     "output_type": "stream",
     "text": [
      "      19/60      5.84G     0.4448          2       1280: 100%|██████████| 2372/2372 [05:14<00:00,  7.55it/s]\n",
      "               classes   top1_acc   top5_acc: 100%|██████████| 58/58 [00:12<00:00,  4.71it/s]"
     ]
    },
    {
     "name": "stdout",
     "output_type": "stream",
     "text": [
      "                   all     0.0254     0.0605\n"
     ]
    },
    {
     "name": "stderr",
     "output_type": "stream",
     "text": [
      "\n"
     ]
    },
    {
     "name": "stdout",
     "output_type": "stream",
     "text": [
      "\n",
      "      Epoch    GPU_mem       loss  Instances       Size\n"
     ]
    },
    {
     "name": "stderr",
     "output_type": "stream",
     "text": [
      "      20/60      5.84G     0.4096          2       1280: 100%|██████████| 2372/2372 [05:14<00:00,  7.55it/s]\n",
      "               classes   top1_acc   top5_acc: 100%|██████████| 58/58 [00:12<00:00,  4.73it/s]"
     ]
    },
    {
     "name": "stdout",
     "output_type": "stream",
     "text": [
      "                   all     0.0254     0.0589\n"
     ]
    },
    {
     "name": "stderr",
     "output_type": "stream",
     "text": [
      "\n"
     ]
    },
    {
     "name": "stdout",
     "output_type": "stream",
     "text": [
      "\n",
      "      Epoch    GPU_mem       loss  Instances       Size\n"
     ]
    },
    {
     "name": "stderr",
     "output_type": "stream",
     "text": [
      "      21/60      5.84G     0.3788          2       1280: 100%|██████████| 2372/2372 [05:13<00:00,  7.56it/s]\n",
      "               classes   top1_acc   top5_acc: 100%|██████████| 58/58 [00:12<00:00,  4.73it/s]"
     ]
    },
    {
     "name": "stdout",
     "output_type": "stream",
     "text": [
      "                   all     0.0254     0.0599\n"
     ]
    },
    {
     "name": "stderr",
     "output_type": "stream",
     "text": [
      "\n"
     ]
    },
    {
     "name": "stdout",
     "output_type": "stream",
     "text": [
      "\n",
      "      Epoch    GPU_mem       loss  Instances       Size\n"
     ]
    },
    {
     "name": "stderr",
     "output_type": "stream",
     "text": [
      "      22/60      5.84G     0.3341          2       1280: 100%|██████████| 2372/2372 [05:14<00:00,  7.53it/s]\n",
      "               classes   top1_acc   top5_acc: 100%|██████████| 58/58 [00:12<00:00,  4.70it/s]"
     ]
    },
    {
     "name": "stdout",
     "output_type": "stream",
     "text": [
      "                   all     0.0265     0.0605\n"
     ]
    },
    {
     "name": "stderr",
     "output_type": "stream",
     "text": [
      "\n"
     ]
    },
    {
     "name": "stdout",
     "output_type": "stream",
     "text": [
      "\n",
      "      Epoch    GPU_mem       loss  Instances       Size\n"
     ]
    },
    {
     "name": "stderr",
     "output_type": "stream",
     "text": [
      "      23/60      5.84G     0.3074          2       1280: 100%|██████████| 2372/2372 [05:14<00:00,  7.55it/s]\n",
      "               classes   top1_acc   top5_acc: 100%|██████████| 58/58 [00:12<00:00,  4.70it/s]"
     ]
    },
    {
     "name": "stdout",
     "output_type": "stream",
     "text": [
      "                   all     0.0265     0.0583\n"
     ]
    },
    {
     "name": "stderr",
     "output_type": "stream",
     "text": [
      "\n"
     ]
    },
    {
     "name": "stdout",
     "output_type": "stream",
     "text": [
      "\n",
      "      Epoch    GPU_mem       loss  Instances       Size\n"
     ]
    },
    {
     "name": "stderr",
     "output_type": "stream",
     "text": [
      "      24/60      5.84G     0.2739          2       1280: 100%|██████████| 2372/2372 [05:14<00:00,  7.54it/s]\n",
      "               classes   top1_acc   top5_acc: 100%|██████████| 58/58 [00:12<00:00,  4.68it/s]"
     ]
    },
    {
     "name": "stdout",
     "output_type": "stream",
     "text": [
      "                   all     0.0259     0.0594\n"
     ]
    },
    {
     "name": "stderr",
     "output_type": "stream",
     "text": [
      "\n"
     ]
    },
    {
     "name": "stdout",
     "output_type": "stream",
     "text": [
      "\n",
      "      Epoch    GPU_mem       loss  Instances       Size\n"
     ]
    },
    {
     "name": "stderr",
     "output_type": "stream",
     "text": [
      "      25/60      5.84G     0.2583          2       1280: 100%|██████████| 2372/2372 [05:14<00:00,  7.55it/s]\n",
      "               classes   top1_acc   top5_acc: 100%|██████████| 58/58 [00:12<00:00,  4.69it/s]"
     ]
    },
    {
     "name": "stdout",
     "output_type": "stream",
     "text": [
      "                   all     0.0254     0.0589\n"
     ]
    },
    {
     "name": "stderr",
     "output_type": "stream",
     "text": [
      "\n"
     ]
    },
    {
     "name": "stdout",
     "output_type": "stream",
     "text": [
      "\n",
      "      Epoch    GPU_mem       loss  Instances       Size\n"
     ]
    },
    {
     "name": "stderr",
     "output_type": "stream",
     "text": [
      "      26/60      5.84G     0.2218          2       1280: 100%|██████████| 2372/2372 [05:14<00:00,  7.54it/s]\n",
      "               classes   top1_acc   top5_acc: 100%|██████████| 58/58 [00:12<00:00,  4.73it/s]"
     ]
    },
    {
     "name": "stdout",
     "output_type": "stream",
     "text": [
      "                   all     0.0254     0.0594\n"
     ]
    },
    {
     "name": "stderr",
     "output_type": "stream",
     "text": [
      "\n"
     ]
    },
    {
     "name": "stdout",
     "output_type": "stream",
     "text": [
      "\n",
      "      Epoch    GPU_mem       loss  Instances       Size\n"
     ]
    },
    {
     "name": "stderr",
     "output_type": "stream",
     "text": [
      "      27/60      5.84G      0.214          2       1280: 100%|██████████| 2372/2372 [05:14<00:00,  7.54it/s]\n",
      "               classes   top1_acc   top5_acc: 100%|██████████| 58/58 [00:12<00:00,  4.72it/s]"
     ]
    },
    {
     "name": "stdout",
     "output_type": "stream",
     "text": [
      "                   all     0.0254     0.0599\n"
     ]
    },
    {
     "name": "stderr",
     "output_type": "stream",
     "text": [
      "\n"
     ]
    },
    {
     "name": "stdout",
     "output_type": "stream",
     "text": [
      "\n",
      "      Epoch    GPU_mem       loss  Instances       Size\n"
     ]
    },
    {
     "name": "stderr",
     "output_type": "stream",
     "text": [
      "      28/60      5.84G     0.1832          2       1280: 100%|██████████| 2372/2372 [05:14<00:00,  7.53it/s]\n",
      "               classes   top1_acc   top5_acc: 100%|██████████| 58/58 [00:12<00:00,  4.71it/s]\n"
     ]
    },
    {
     "name": "stdout",
     "output_type": "stream",
     "text": [
      "                   all     0.0254     0.0578\n",
      "\n",
      "      Epoch    GPU_mem       loss  Instances       Size\n"
     ]
    },
    {
     "name": "stderr",
     "output_type": "stream",
     "text": [
      "      29/60      5.84G     0.1646          2       1280: 100%|██████████| 2372/2372 [05:15<00:00,  7.52it/s]\n",
      "               classes   top1_acc   top5_acc: 100%|██████████| 58/58 [00:12<00:00,  4.66it/s]"
     ]
    },
    {
     "name": "stdout",
     "output_type": "stream",
     "text": [
      "                   all     0.0254     0.0599\n"
     ]
    },
    {
     "name": "stderr",
     "output_type": "stream",
     "text": [
      "\n"
     ]
    },
    {
     "name": "stdout",
     "output_type": "stream",
     "text": [
      "\n",
      "      Epoch    GPU_mem       loss  Instances       Size\n"
     ]
    },
    {
     "name": "stderr",
     "output_type": "stream",
     "text": [
      "      30/60      5.84G     0.1365          2       1280: 100%|██████████| 2372/2372 [05:15<00:00,  7.52it/s]\n",
      "               classes   top1_acc   top5_acc: 100%|██████████| 58/58 [00:12<00:00,  4.69it/s]"
     ]
    },
    {
     "name": "stdout",
     "output_type": "stream",
     "text": [
      "                   all     0.0254     0.0589\n"
     ]
    },
    {
     "name": "stderr",
     "output_type": "stream",
     "text": [
      "\n"
     ]
    },
    {
     "name": "stdout",
     "output_type": "stream",
     "text": [
      "\n",
      "      Epoch    GPU_mem       loss  Instances       Size\n"
     ]
    },
    {
     "name": "stderr",
     "output_type": "stream",
     "text": [
      "      31/60      5.84G     0.1213          2       1280: 100%|██████████| 2372/2372 [05:15<00:00,  7.52it/s]\n",
      "               classes   top1_acc   top5_acc: 100%|██████████| 58/58 [00:12<00:00,  4.70it/s]"
     ]
    },
    {
     "name": "stdout",
     "output_type": "stream",
     "text": [
      "                   all     0.0254     0.0594\n"
     ]
    },
    {
     "name": "stderr",
     "output_type": "stream",
     "text": [
      "\n"
     ]
    },
    {
     "name": "stdout",
     "output_type": "stream",
     "text": [
      "\n",
      "      Epoch    GPU_mem       loss  Instances       Size\n"
     ]
    },
    {
     "name": "stderr",
     "output_type": "stream",
     "text": [
      "      32/60      5.84G     0.1052          2       1280: 100%|██████████| 2372/2372 [05:14<00:00,  7.53it/s]\n",
      "               classes   top1_acc   top5_acc: 100%|██████████| 58/58 [00:12<00:00,  4.68it/s]"
     ]
    },
    {
     "name": "stdout",
     "output_type": "stream",
     "text": [
      "                   all     0.0254     0.0594\n"
     ]
    },
    {
     "name": "stderr",
     "output_type": "stream",
     "text": [
      "\n"
     ]
    },
    {
     "name": "stdout",
     "output_type": "stream",
     "text": [
      "\n",
      "      Epoch    GPU_mem       loss  Instances       Size\n"
     ]
    },
    {
     "name": "stderr",
     "output_type": "stream",
     "text": [
      "      33/60      5.84G    0.09264          2       1280: 100%|██████████| 2372/2372 [05:15<00:00,  7.52it/s]\n",
      "               classes   top1_acc   top5_acc: 100%|██████████| 58/58 [00:12<00:00,  4.66it/s]"
     ]
    },
    {
     "name": "stdout",
     "output_type": "stream",
     "text": [
      "                   all     0.0254     0.0594\n"
     ]
    },
    {
     "name": "stderr",
     "output_type": "stream",
     "text": [
      "\n"
     ]
    },
    {
     "name": "stdout",
     "output_type": "stream",
     "text": [
      "\n",
      "      Epoch    GPU_mem       loss  Instances       Size\n"
     ]
    },
    {
     "name": "stderr",
     "output_type": "stream",
     "text": [
      "      34/60      5.84G    0.06568          2       1280: 100%|██████████| 2372/2372 [05:15<00:00,  7.52it/s]\n",
      "               classes   top1_acc   top5_acc: 100%|██████████| 58/58 [00:12<00:00,  4.69it/s]"
     ]
    },
    {
     "name": "stdout",
     "output_type": "stream",
     "text": [
      "                   all     0.0259     0.0594\n"
     ]
    },
    {
     "name": "stderr",
     "output_type": "stream",
     "text": [
      "\n"
     ]
    },
    {
     "name": "stdout",
     "output_type": "stream",
     "text": [
      "\n",
      "      Epoch    GPU_mem       loss  Instances       Size\n"
     ]
    },
    {
     "name": "stderr",
     "output_type": "stream",
     "text": [
      "      35/60      5.84G    0.04836          2       1280: 100%|██████████| 2372/2372 [05:15<00:00,  7.52it/s]\n",
      "               classes   top1_acc   top5_acc: 100%|██████████| 58/58 [00:12<00:00,  4.70it/s]"
     ]
    },
    {
     "name": "stdout",
     "output_type": "stream",
     "text": [
      "                   all     0.0259     0.0583\n"
     ]
    },
    {
     "name": "stderr",
     "output_type": "stream",
     "text": [
      "\n"
     ]
    },
    {
     "name": "stdout",
     "output_type": "stream",
     "text": [
      "\n",
      "      Epoch    GPU_mem       loss  Instances       Size\n"
     ]
    },
    {
     "name": "stderr",
     "output_type": "stream",
     "text": [
      "      36/60      5.84G    0.04465          2       1280: 100%|██████████| 2372/2372 [05:15<00:00,  7.52it/s]\n",
      "               classes   top1_acc   top5_acc: 100%|██████████| 58/58 [00:12<00:00,  4.67it/s]"
     ]
    },
    {
     "name": "stdout",
     "output_type": "stream",
     "text": [
      "                   all     0.0254     0.0589\n"
     ]
    },
    {
     "name": "stderr",
     "output_type": "stream",
     "text": [
      "\n"
     ]
    },
    {
     "name": "stdout",
     "output_type": "stream",
     "text": [
      "\n",
      "      Epoch    GPU_mem       loss  Instances       Size\n"
     ]
    },
    {
     "name": "stderr",
     "output_type": "stream",
     "text": [
      "      37/60      5.84G    0.02997          2       1280: 100%|██████████| 2372/2372 [05:15<00:00,  7.53it/s]\n",
      "               classes   top1_acc   top5_acc: 100%|██████████| 58/58 [00:12<00:00,  4.69it/s]"
     ]
    },
    {
     "name": "stdout",
     "output_type": "stream",
     "text": [
      "                   all     0.0248     0.0589\n"
     ]
    },
    {
     "name": "stderr",
     "output_type": "stream",
     "text": [
      "\n"
     ]
    },
    {
     "name": "stdout",
     "output_type": "stream",
     "text": [
      "\n",
      "      Epoch    GPU_mem       loss  Instances       Size\n"
     ]
    },
    {
     "name": "stderr",
     "output_type": "stream",
     "text": [
      "      38/60      5.84G    0.03188          2       1280: 100%|██████████| 2372/2372 [05:14<00:00,  7.54it/s]\n",
      "               classes   top1_acc   top5_acc: 100%|██████████| 58/58 [00:12<00:00,  4.68it/s]"
     ]
    },
    {
     "name": "stdout",
     "output_type": "stream",
     "text": [
      "                   all     0.0248     0.0589\n"
     ]
    },
    {
     "name": "stderr",
     "output_type": "stream",
     "text": [
      "\n"
     ]
    },
    {
     "name": "stdout",
     "output_type": "stream",
     "text": [
      "\n",
      "      Epoch    GPU_mem       loss  Instances       Size\n"
     ]
    },
    {
     "name": "stderr",
     "output_type": "stream",
     "text": [
      "      39/60      5.84G    0.01797          2       1280: 100%|██████████| 2372/2372 [05:15<00:00,  7.52it/s]\n",
      "               classes   top1_acc   top5_acc: 100%|██████████| 58/58 [00:12<00:00,  4.69it/s]\n"
     ]
    },
    {
     "name": "stdout",
     "output_type": "stream",
     "text": [
      "                   all     0.0248     0.0594\n",
      "\n",
      "      Epoch    GPU_mem       loss  Instances       Size\n"
     ]
    },
    {
     "name": "stderr",
     "output_type": "stream",
     "text": [
      "      40/60      5.84G    0.01121          2       1280: 100%|██████████| 2372/2372 [05:14<00:00,  7.54it/s]\n",
      "               classes   top1_acc   top5_acc: 100%|██████████| 58/58 [00:12<00:00,  4.65it/s]\n"
     ]
    },
    {
     "name": "stdout",
     "output_type": "stream",
     "text": [
      "                   all     0.0248     0.0599\n",
      "\n",
      "      Epoch    GPU_mem       loss  Instances       Size\n"
     ]
    },
    {
     "name": "stderr",
     "output_type": "stream",
     "text": [
      "      41/60      5.84G   0.007657          2       1280: 100%|██████████| 2372/2372 [05:15<00:00,  7.52it/s]\n",
      "               classes   top1_acc   top5_acc: 100%|██████████| 58/58 [00:12<00:00,  4.68it/s]"
     ]
    },
    {
     "name": "stdout",
     "output_type": "stream",
     "text": [
      "                   all     0.0248     0.0599\n"
     ]
    },
    {
     "name": "stderr",
     "output_type": "stream",
     "text": [
      "\n"
     ]
    },
    {
     "name": "stdout",
     "output_type": "stream",
     "text": [
      "\n",
      "      Epoch    GPU_mem       loss  Instances       Size\n"
     ]
    },
    {
     "name": "stderr",
     "output_type": "stream",
     "text": [
      "      42/60      5.84G   0.005679          2       1280: 100%|██████████| 2372/2372 [05:14<00:00,  7.54it/s]\n",
      "               classes   top1_acc   top5_acc: 100%|██████████| 58/58 [00:12<00:00,  4.67it/s]"
     ]
    },
    {
     "name": "stdout",
     "output_type": "stream",
     "text": [
      "                   all     0.0248     0.0599\n"
     ]
    },
    {
     "name": "stderr",
     "output_type": "stream",
     "text": [
      "\n"
     ]
    },
    {
     "name": "stdout",
     "output_type": "stream",
     "text": [
      "\n",
      "      Epoch    GPU_mem       loss  Instances       Size\n"
     ]
    },
    {
     "name": "stderr",
     "output_type": "stream",
     "text": [
      "      43/60      5.84G   0.004522          2       1280: 100%|██████████| 2372/2372 [05:15<00:00,  7.52it/s]\n",
      "               classes   top1_acc   top5_acc: 100%|██████████| 58/58 [00:12<00:00,  4.70it/s]"
     ]
    },
    {
     "name": "stdout",
     "output_type": "stream",
     "text": [
      "                   all     0.0254     0.0599\n"
     ]
    },
    {
     "name": "stderr",
     "output_type": "stream",
     "text": [
      "\n"
     ]
    },
    {
     "name": "stdout",
     "output_type": "stream",
     "text": [
      "\n",
      "      Epoch    GPU_mem       loss  Instances       Size\n"
     ]
    },
    {
     "name": "stderr",
     "output_type": "stream",
     "text": [
      "      44/60      5.84G    0.00491          2       1280: 100%|██████████| 2372/2372 [05:14<00:00,  7.53it/s]\n",
      "               classes   top1_acc   top5_acc: 100%|██████████| 58/58 [00:12<00:00,  4.69it/s]"
     ]
    },
    {
     "name": "stdout",
     "output_type": "stream",
     "text": [
      "                   all     0.0254     0.0599\n"
     ]
    },
    {
     "name": "stderr",
     "output_type": "stream",
     "text": [
      "\n"
     ]
    },
    {
     "name": "stdout",
     "output_type": "stream",
     "text": [
      "\n",
      "      Epoch    GPU_mem       loss  Instances       Size\n"
     ]
    },
    {
     "name": "stderr",
     "output_type": "stream",
     "text": [
      "      45/60      5.84G   0.004422          2       1280: 100%|██████████| 2372/2372 [05:15<00:00,  7.51it/s]\n",
      "               classes   top1_acc   top5_acc: 100%|██████████| 58/58 [00:12<00:00,  4.66it/s]"
     ]
    },
    {
     "name": "stdout",
     "output_type": "stream",
     "text": [
      "                   all     0.0254     0.0594\n"
     ]
    },
    {
     "name": "stderr",
     "output_type": "stream",
     "text": [
      "\n"
     ]
    },
    {
     "name": "stdout",
     "output_type": "stream",
     "text": [
      "\n",
      "      Epoch    GPU_mem       loss  Instances       Size\n"
     ]
    },
    {
     "name": "stderr",
     "output_type": "stream",
     "text": [
      "      46/60      5.84G   0.004497          2       1280: 100%|██████████| 2372/2372 [05:15<00:00,  7.51it/s]\n",
      "               classes   top1_acc   top5_acc: 100%|██████████| 58/58 [00:12<00:00,  4.69it/s]"
     ]
    },
    {
     "name": "stdout",
     "output_type": "stream",
     "text": [
      "                   all     0.0254     0.0605\n"
     ]
    },
    {
     "name": "stderr",
     "output_type": "stream",
     "text": [
      "\n"
     ]
    },
    {
     "name": "stdout",
     "output_type": "stream",
     "text": [
      "\n",
      "      Epoch    GPU_mem       loss  Instances       Size\n"
     ]
    },
    {
     "name": "stderr",
     "output_type": "stream",
     "text": [
      "      47/60      5.84G   0.003941          2       1280: 100%|██████████| 2372/2372 [05:15<00:00,  7.52it/s]\n",
      "               classes   top1_acc   top5_acc: 100%|██████████| 58/58 [00:12<00:00,  4.69it/s]"
     ]
    },
    {
     "name": "stdout",
     "output_type": "stream",
     "text": [
      "                   all     0.0254     0.0605\n"
     ]
    },
    {
     "name": "stderr",
     "output_type": "stream",
     "text": [
      "\n"
     ]
    },
    {
     "name": "stdout",
     "output_type": "stream",
     "text": [
      "\n",
      "      Epoch    GPU_mem       loss  Instances       Size\n"
     ]
    },
    {
     "name": "stderr",
     "output_type": "stream",
     "text": [
      "      48/60      5.84G   0.003863          2       1280: 100%|██████████| 2372/2372 [05:15<00:00,  7.53it/s]\n",
      "               classes   top1_acc   top5_acc: 100%|██████████| 58/58 [00:12<00:00,  4.69it/s]"
     ]
    },
    {
     "name": "stdout",
     "output_type": "stream",
     "text": [
      "                   all     0.0259     0.0605\n"
     ]
    },
    {
     "name": "stderr",
     "output_type": "stream",
     "text": [
      "\n"
     ]
    },
    {
     "name": "stdout",
     "output_type": "stream",
     "text": [
      "\n",
      "      Epoch    GPU_mem       loss  Instances       Size\n"
     ]
    },
    {
     "name": "stderr",
     "output_type": "stream",
     "text": [
      "      49/60      5.84G   0.003624          2       1280: 100%|██████████| 2372/2372 [05:14<00:00,  7.53it/s]\n",
      "               classes   top1_acc   top5_acc: 100%|██████████| 58/58 [00:12<00:00,  4.67it/s]\n"
     ]
    },
    {
     "name": "stdout",
     "output_type": "stream",
     "text": [
      "                   all     0.0254     0.0605\n",
      "\n",
      "      Epoch    GPU_mem       loss  Instances       Size\n"
     ]
    },
    {
     "name": "stderr",
     "output_type": "stream",
     "text": [
      "      50/60      5.84G   0.003691          2       1280: 100%|██████████| 2372/2372 [05:14<00:00,  7.53it/s]\n",
      "               classes   top1_acc   top5_acc: 100%|██████████| 58/58 [00:12<00:00,  4.62it/s]"
     ]
    },
    {
     "name": "stdout",
     "output_type": "stream",
     "text": [
      "                   all     0.0248     0.0605\n"
     ]
    },
    {
     "name": "stderr",
     "output_type": "stream",
     "text": [
      "\n"
     ]
    },
    {
     "name": "stdout",
     "output_type": "stream",
     "text": [
      "\n",
      "      Epoch    GPU_mem       loss  Instances       Size\n"
     ]
    },
    {
     "name": "stderr",
     "output_type": "stream",
     "text": [
      "      51/60       6.9G    0.00397          2       1280: 100%|██████████| 2372/2372 [05:16<00:00,  7.51it/s]\n",
      "               classes   top1_acc   top5_acc: 100%|██████████| 58/58 [00:12<00:00,  4.69it/s]"
     ]
    },
    {
     "name": "stdout",
     "output_type": "stream",
     "text": [
      "                   all     0.0254     0.0605\n"
     ]
    },
    {
     "name": "stderr",
     "output_type": "stream",
     "text": [
      "\n"
     ]
    },
    {
     "name": "stdout",
     "output_type": "stream",
     "text": [
      "\n",
      "      Epoch    GPU_mem       loss  Instances       Size\n"
     ]
    },
    {
     "name": "stderr",
     "output_type": "stream",
     "text": [
      "      52/60      5.84G   0.003448          2       1280: 100%|██████████| 2372/2372 [05:25<00:00,  7.29it/s]\n",
      "               classes   top1_acc   top5_acc: 100%|██████████| 58/58 [00:12<00:00,  4.67it/s]"
     ]
    },
    {
     "name": "stdout",
     "output_type": "stream",
     "text": [
      "                   all     0.0254     0.0605\n"
     ]
    },
    {
     "name": "stderr",
     "output_type": "stream",
     "text": [
      "\n"
     ]
    },
    {
     "name": "stdout",
     "output_type": "stream",
     "text": [
      "\n",
      "      Epoch    GPU_mem       loss  Instances       Size\n"
     ]
    },
    {
     "name": "stderr",
     "output_type": "stream",
     "text": [
      "      53/60      5.84G    0.00342          2       1280: 100%|██████████| 2372/2372 [05:15<00:00,  7.53it/s]\n",
      "               classes   top1_acc   top5_acc: 100%|██████████| 58/58 [00:12<00:00,  4.67it/s]"
     ]
    },
    {
     "name": "stdout",
     "output_type": "stream",
     "text": [
      "                   all     0.0254     0.0599\n"
     ]
    },
    {
     "name": "stderr",
     "output_type": "stream",
     "text": [
      "\n"
     ]
    },
    {
     "name": "stdout",
     "output_type": "stream",
     "text": [
      "\n",
      "      Epoch    GPU_mem       loss  Instances       Size\n"
     ]
    },
    {
     "name": "stderr",
     "output_type": "stream",
     "text": [
      "      54/60      5.84G   0.003228          2       1280: 100%|██████████| 2372/2372 [05:19<00:00,  7.43it/s]\n",
      "               classes   top1_acc   top5_acc: 100%|██████████| 58/58 [00:12<00:00,  4.64it/s]"
     ]
    },
    {
     "name": "stdout",
     "output_type": "stream",
     "text": [
      "                   all     0.0254     0.0605\n"
     ]
    },
    {
     "name": "stderr",
     "output_type": "stream",
     "text": [
      "\n"
     ]
    },
    {
     "name": "stdout",
     "output_type": "stream",
     "text": [
      "\n",
      "      Epoch    GPU_mem       loss  Instances       Size\n"
     ]
    },
    {
     "name": "stderr",
     "output_type": "stream",
     "text": [
      "      55/60      5.84G   0.003147          2       1280: 100%|██████████| 2372/2372 [05:25<00:00,  7.28it/s]\n",
      "               classes   top1_acc   top5_acc: 100%|██████████| 58/58 [00:12<00:00,  4.67it/s]\n"
     ]
    },
    {
     "name": "stdout",
     "output_type": "stream",
     "text": [
      "                   all     0.0254      0.061\n",
      "\n",
      "      Epoch    GPU_mem       loss  Instances       Size\n"
     ]
    },
    {
     "name": "stderr",
     "output_type": "stream",
     "text": [
      "      56/60      5.84G    0.00314          2       1280: 100%|██████████| 2372/2372 [05:26<00:00,  7.27it/s]\n",
      "               classes   top1_acc   top5_acc: 100%|██████████| 58/58 [00:12<00:00,  4.63it/s]\n"
     ]
    },
    {
     "name": "stdout",
     "output_type": "stream",
     "text": [
      "                   all     0.0254      0.061\n",
      "\n",
      "      Epoch    GPU_mem       loss  Instances       Size\n"
     ]
    },
    {
     "name": "stderr",
     "output_type": "stream",
     "text": [
      "      57/60      5.84G   0.003216          2       1280: 100%|██████████| 2372/2372 [05:26<00:00,  7.26it/s]\n",
      "               classes   top1_acc   top5_acc: 100%|██████████| 58/58 [00:12<00:00,  4.64it/s]"
     ]
    },
    {
     "name": "stdout",
     "output_type": "stream",
     "text": [
      "                   all     0.0254     0.0621\n"
     ]
    },
    {
     "name": "stderr",
     "output_type": "stream",
     "text": [
      "\n"
     ]
    },
    {
     "name": "stdout",
     "output_type": "stream",
     "text": [
      "\n",
      "      Epoch    GPU_mem       loss  Instances       Size\n"
     ]
    },
    {
     "name": "stderr",
     "output_type": "stream",
     "text": [
      "      58/60      5.84G   0.003116          2       1280: 100%|██████████| 2372/2372 [05:26<00:00,  7.27it/s]\n",
      "               classes   top1_acc   top5_acc: 100%|██████████| 58/58 [00:12<00:00,  4.63it/s]"
     ]
    },
    {
     "name": "stdout",
     "output_type": "stream",
     "text": [
      "                   all     0.0259     0.0621\n"
     ]
    },
    {
     "name": "stderr",
     "output_type": "stream",
     "text": [
      "\n"
     ]
    },
    {
     "name": "stdout",
     "output_type": "stream",
     "text": [
      "\n",
      "      Epoch    GPU_mem       loss  Instances       Size\n"
     ]
    },
    {
     "name": "stderr",
     "output_type": "stream",
     "text": [
      "      59/60      5.84G   0.003178          2       1280: 100%|██████████| 2372/2372 [05:20<00:00,  7.41it/s]\n",
      "               classes   top1_acc   top5_acc: 100%|██████████| 58/58 [00:12<00:00,  4.66it/s]"
     ]
    },
    {
     "name": "stdout",
     "output_type": "stream",
     "text": [
      "                   all     0.0259     0.0621\n"
     ]
    },
    {
     "name": "stderr",
     "output_type": "stream",
     "text": [
      "\n"
     ]
    },
    {
     "name": "stdout",
     "output_type": "stream",
     "text": [
      "\n",
      "      Epoch    GPU_mem       loss  Instances       Size\n"
     ]
    },
    {
     "name": "stderr",
     "output_type": "stream",
     "text": [
      "      60/60      5.84G   0.003071          2       1280: 100%|██████████| 2372/2372 [05:27<00:00,  7.24it/s]\n",
      "               classes   top1_acc   top5_acc: 100%|██████████| 58/58 [00:12<00:00,  4.63it/s]"
     ]
    },
    {
     "name": "stdout",
     "output_type": "stream",
     "text": [
      "                   all     0.0259     0.0621\n"
     ]
    },
    {
     "name": "stderr",
     "output_type": "stream",
     "text": [
      "\n"
     ]
    },
    {
     "name": "stdout",
     "output_type": "stream",
     "text": [
      "\n",
      "60 epochs completed in 5.475 hours.\n",
      "Optimizer stripped from runs/classify/yolov8n_custom_cls12/weights/last.pt, 3.4MB\n",
      "Optimizer stripped from runs/classify/yolov8n_custom_cls12/weights/best.pt, 3.4MB\n",
      "\n",
      "Validating runs/classify/yolov8n_custom_cls12/weights/best.pt...\n",
      "Ultralytics YOLOv8.0.218 🚀 Python-3.10.12 torch-1.12.1+cu116 CUDA:0 (NVIDIA GeForce RTX 3090, 24260MiB)\n",
      "YOLOv8n-cls summary (fused): 73 layers, 1675708 parameters, 0 gradients, 3.5 GFLOPs\n",
      "WARNING ⚠️ Dataset 'split=val' not found, using 'split=test' instead.\n",
      "\u001b[34m\u001b[1mtrain:\u001b[0m /home/stas/workspace/courses/itmo_courses/dl_in_practice/for_cls_2/train... found 37938 images in 188 classes ✅ \n",
      "\u001b[34m\u001b[1mval:\u001b[0m None...\n",
      "\u001b[34m\u001b[1mtest:\u001b[0m /home/stas/workspace/courses/itmo_courses/dl_in_practice/for_cls_2/test... found 1852 images in 126 classes: ERROR ❌️ requires 188 classes, not 126\n"
     ]
    },
    {
     "name": "stderr",
     "output_type": "stream",
     "text": [
      "               classes   top1_acc   top5_acc: 100%|██████████| 58/58 [00:13<00:00,  4.21it/s]\n"
     ]
    },
    {
     "name": "stdout",
     "output_type": "stream",
     "text": [
      "                   all     0.0259     0.0621\n",
      "Speed: 2.4ms preprocess, 1.2ms inference, 0.0ms loss, 0.0ms postprocess per image\n",
      "Results saved to \u001b[1mruns/classify/yolov8n_custom_cls12\u001b[0m\n",
      "Results saved to \u001b[1mruns/classify/yolov8n_custom_cls12\u001b[0m\n"
     ]
    }
   ],
   "source": [
    "results = model.train(\n",
    "   data='/home/stas/workspace/courses/itmo_courses/dl_in_practice/for_cls_2/',\n",
    "   imgsz=1280,\n",
    "   epochs=60,\n",
    "   batch=16,\n",
    "   name='yolov8n_custom_cls')"
   ]
  },
  {
   "cell_type": "markdown",
   "id": "95a7719c-b7e0-40bc-8348-c001a1ef7132",
   "metadata": {},
   "source": [
    "### Метрики\n",
    "Лоссы и метрики обучения сохраняются в папку, их можно проанализировать отдельно. По графикам видно, что модель обучилась хорошо. Оснонвая метрика - accuracy"
   ]
  },
  {
   "cell_type": "code",
   "execution_count": 80,
   "id": "e97c4b88-5ada-44b0-ac6c-67c4d203e384",
   "metadata": {},
   "outputs": [
    {
     "name": "stdout",
     "output_type": "stream",
     "text": [
      "WARNING ⚠️ 'hide_labels' is deprecated and will be removed in 'ultralytics 8.2' in the future. Please use 'show_labels' instead.\n",
      "WARNING ⚠️ Environment does not support cv2.imshow() or PIL Image.show()\n",
      "\n",
      "Ultralytics YOLOv8.0.218 🚀 Python-3.10.12 torch-1.12.1+cu116 CUDA:0 (NVIDIA GeForce RTX 3090, 24260MiB)\n",
      "YOLOv8n-cls summary (fused): 73 layers, 1675708 parameters, 0 gradients, 3.5 GFLOPs\n",
      "\n",
      "image 1/1 /home/stas/workspace/courses/itmo_courses/dl_in_practice/runs/detect/yolov8n_custom1114/autosave10_10_2012_12_06_25_1.jpg: 1280x1280 2_1 1.00, 1_1 0.00, 5_15_2_2 0.00, 5_21 0.00, 2_2 0.00, 3.5ms\n",
      "Speed: 13.3ms preprocess, 3.5ms inference, 0.1ms postprocess per image at shape (1, 3, 1280, 1280)\n",
      "Results saved to \u001b[1mruns/classify/yolov8n_custom116\u001b[0m\n",
      "💡 Learn more at https://docs.ultralytics.com/modes/predict\n"
     ]
    }
   ],
   "source": [
    "! /home/stas/.local/bin/yolo  mode=predict model=runs/classify/yolov8n_custom_cls12/weights/best.pt source=runs/detect/yolov8n_custom1114/autosave10_10_2012_12_06_25_1.jpg show=True imgsz=1280 name=yolov8n_custom11 hide_labels=False"
   ]
  }
 ],
 "metadata": {
  "kernelspec": {
   "display_name": "Python 3 (ipykernel)",
   "language": "python",
   "name": "python3"
  },
  "language_info": {
   "codemirror_mode": {
    "name": "ipython",
    "version": 3
   },
   "file_extension": ".py",
   "mimetype": "text/x-python",
   "name": "python",
   "nbconvert_exporter": "python",
   "pygments_lexer": "ipython3",
   "version": "3.10.12"
  }
 },
 "nbformat": 4,
 "nbformat_minor": 5
}
